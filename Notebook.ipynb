{
    "metadata": {
        "kernelspec": {
            "name": "SQL",
            "display_name": "SQL",
            "language": "sql"
        },
        "language_info": {
            "name": "sql",
            "version": ""
        }
    },
    "nbformat_minor": 2,
    "nbformat": 4,
    "cells": [
        {
            "cell_type": "code",
            "source": [
                "INSERT INTO test_games (color, solution) VALUES ('black', 3);\n",
                "SELECT SCOPE_IDENTITY() AS [SCOPE_IDENTITY];"
            ],
            "metadata": {
                "azdata_cell_guid": "46e0dcdb-706b-4ef9-aa40-456278ac71d5"
            },
            "outputs": [
                {
                    "output_type": "display_data",
                    "data": {
                        "text/html": "(1 row affected)"
                    },
                    "metadata": {}
                },
                {
                    "output_type": "display_data",
                    "data": {
                        "text/html": "(1 row affected)"
                    },
                    "metadata": {}
                },
                {
                    "output_type": "display_data",
                    "data": {
                        "text/html": "Total execution time: 00:00:00.034"
                    },
                    "metadata": {}
                },
                {
                    "output_type": "execute_result",
                    "execution_count": 12,
                    "data": {
                        "application/vnd.dataresource+json": {
                            "data": [
                                {
                                    "0": "5"
                                }
                            ],
                            "schema": {
                                "fields": [
                                    {
                                        "name": "SCOPE_IDENTITY"
                                    }
                                ]
                            }
                        },
                        "text/html": "<table><tr><th>SCOPE_IDENTITY</th></tr><tr><td>5</td></tr></table>"
                    },
                    "metadata": {}
                }
            ],
            "execution_count": 12
        },
        {
            "cell_type": "code",
            "source": [
                "SELECT SCOPE_IDENTITY() AS [SCOPE_IDENTITY];"
            ],
            "metadata": {
                "azdata_cell_guid": "0dd370ef-afd8-4640-8dae-7dec43c11810"
            },
            "outputs": [
                {
                    "output_type": "display_data",
                    "data": {
                        "text/html": "(1 row affected)"
                    },
                    "metadata": {}
                },
                {
                    "output_type": "display_data",
                    "data": {
                        "text/html": "Total execution time: 00:00:00.020"
                    },
                    "metadata": {}
                },
                {
                    "output_type": "execute_result",
                    "execution_count": 10,
                    "data": {
                        "application/vnd.dataresource+json": {
                            "data": [
                                {
                                    "0": "3"
                                }
                            ],
                            "schema": {
                                "fields": [
                                    {
                                        "name": "SCOPE_IDENTITY"
                                    }
                                ]
                            }
                        },
                        "text/html": "<table><tr><th>SCOPE_IDENTITY</th></tr><tr><td>3</td></tr></table>"
                    },
                    "metadata": {}
                }
            ],
            "execution_count": 10
        },
        {
            "cell_type": "code",
            "source": [
                "SELECT  TOP 10\n",
                "        name, \n",
                "        points, \n",
                "        created_at, \n",
                "        color\n",
                "FROM test_games \n",
                "WHERE status='finished'\n",
                "ORDER BY points DESC, created_at DESC"
            ],
            "metadata": {
                "azdata_cell_guid": "4eafa142-39a0-4a5f-833b-2561d09b2015",
                "tags": []
            },
            "outputs": [
                {
                    "output_type": "display_data",
                    "data": {
                        "text/html": "(1 row affected)"
                    },
                    "metadata": {}
                },
                {
                    "output_type": "display_data",
                    "data": {
                        "text/html": "Total execution time: 00:00:00.028"
                    },
                    "metadata": {}
                },
                {
                    "output_type": "execute_result",
                    "execution_count": 24,
                    "data": {
                        "application/vnd.dataresource+json": {
                            "data": [
                                {
                                    "0": "TEST",
                                    "1": "1",
                                    "2": "2022-02-07 20:04:44.023",
                                    "3": "yellow"
                                }
                            ],
                            "schema": {
                                "fields": [
                                    {
                                        "name": "name"
                                    },
                                    {
                                        "name": "points"
                                    },
                                    {
                                        "name": "created_at"
                                    },
                                    {
                                        "name": "color"
                                    }
                                ]
                            }
                        },
                        "text/html": "<table><tr><th>name</th><th>points</th><th>created_at</th><th>color</th></tr><tr><td>TEST</td><td>1</td><td>2022-02-07 20:04:44.023</td><td>yellow</td></tr></table>"
                    },
                    "metadata": {}
                }
            ],
            "execution_count": 24
        },
        {
            "cell_type": "code",
            "source": [
                "SELECT * FROM dev_games;\n",
                "SELECT * FROM test_games;\n",
                "SELECT * FROM prod_games;"
            ],
            "metadata": {
                "azdata_cell_guid": "88cf2023-be67-4764-a83a-02a30f261d8f"
            },
            "outputs": [
                {
                    "output_type": "display_data",
                    "data": {
                        "text/html": "(62 rows affected)"
                    },
                    "metadata": {}
                },
                {
                    "output_type": "display_data",
                    "data": {
                        "text/html": "(0 rows affected)"
                    },
                    "metadata": {}
                },
                {
                    "output_type": "display_data",
                    "data": {
                        "text/html": "(41 rows affected)"
                    },
                    "metadata": {}
                },
                {
                    "output_type": "display_data",
                    "data": {
                        "text/html": "Total execution time: 00:00:00.039"
                    },
                    "metadata": {}
                },
                {
                    "output_type": "execute_result",
                    "metadata": {},
                    "execution_count": 6,
                    "data": {
                        "application/vnd.dataresource+json": {
                            "schema": {
                                "fields": [
                                    {
                                        "name": "id"
                                    },
                                    {
                                        "name": "created_at"
                                    },
                                    {
                                        "name": "color"
                                    },
                                    {
                                        "name": "rounds"
                                    },
                                    {
                                        "name": "name"
                                    },
                                    {
                                        "name": "status"
                                    }
                                ]
                            },
                            "data": [
                                {
                                    "0": "2",
                                    "1": "2022-03-01 19:48:00.193",
                                    "2": "black",
                                    "3": "0",
                                    "4": "",
                                    "5": "init"
                                },
                                {
                                    "0": "3",
                                    "1": "2022-03-01 22:41:11.310",
                                    "2": "red",
                                    "3": "3",
                                    "4": "hannes",
                                    "5": "finished"
                                },
                                {
                                    "0": "4",
                                    "1": "2022-03-01 22:41:13.717",
                                    "2": "red",
                                    "3": "0",
                                    "4": "",
                                    "5": "init"
                                },
                                {
                                    "0": "5",
                                    "1": "2022-03-01 22:41:15.730",
                                    "2": "red",
                                    "3": "0",
                                    "4": "",
                                    "5": "init"
                                },
                                {
                                    "0": "6",
                                    "1": "2022-03-01 22:53:26.967",
                                    "2": "red",
                                    "3": "0",
                                    "4": "",
                                    "5": "init"
                                },
                                {
                                    "0": "7",
                                    "1": "2022-03-01 22:53:53.300",
                                    "2": "red",
                                    "3": "0",
                                    "4": "",
                                    "5": "init"
                                },
                                {
                                    "0": "8",
                                    "1": "2022-03-01 22:54:05.877",
                                    "2": "red",
                                    "3": "0",
                                    "4": "",
                                    "5": "init"
                                },
                                {
                                    "0": "9",
                                    "1": "2022-03-01 22:54:54.080",
                                    "2": "red",
                                    "3": "0",
                                    "4": "",
                                    "5": "init"
                                },
                                {
                                    "0": "10",
                                    "1": "2022-03-01 22:55:20.640",
                                    "2": "red",
                                    "3": "0",
                                    "4": "",
                                    "5": "init"
                                },
                                {
                                    "0": "11",
                                    "1": "2022-03-01 22:58:23.857",
                                    "2": "red",
                                    "3": "0",
                                    "4": "",
                                    "5": "init"
                                },
                                {
                                    "0": "12",
                                    "1": "2022-03-01 22:59:10.060",
                                    "2": "gold",
                                    "3": "0",
                                    "4": "",
                                    "5": "init"
                                },
                                {
                                    "0": "13",
                                    "1": "2022-03-01 23:00:37.510",
                                    "2": "gold",
                                    "3": "0",
                                    "4": "",
                                    "5": "init"
                                },
                                {
                                    "0": "14",
                                    "1": "2022-03-01 23:07:56.833",
                                    "2": "gold",
                                    "3": "0",
                                    "4": "",
                                    "5": "init"
                                },
                                {
                                    "0": "15",
                                    "1": "2022-03-01 23:08:57.360",
                                    "2": "gold",
                                    "3": "0",
                                    "4": "",
                                    "5": "init"
                                },
                                {
                                    "0": "16",
                                    "1": "2022-03-01 23:09:10.550",
                                    "2": "gold",
                                    "3": "0",
                                    "4": "",
                                    "5": "init"
                                },
                                {
                                    "0": "18",
                                    "1": "2022-03-01 23:14:52.373",
                                    "2": "gold",
                                    "3": "0",
                                    "4": "",
                                    "5": "init"
                                },
                                {
                                    "0": "19",
                                    "1": "2022-03-01 23:24:50.317",
                                    "2": "gold",
                                    "3": "0",
                                    "4": "",
                                    "5": "init"
                                },
                                {
                                    "0": "20",
                                    "1": "2022-03-01 23:24:52.720",
                                    "2": "gold",
                                    "3": "0",
                                    "4": "",
                                    "5": "init"
                                },
                                {
                                    "0": "22",
                                    "1": "2022-03-02 13:49:31.403",
                                    "2": "yellow",
                                    "3": "0",
                                    "4": "",
                                    "5": "init"
                                },
                                {
                                    "0": "24",
                                    "1": "2022-03-02 13:51:43.433",
                                    "2": "blue",
                                    "3": "0",
                                    "4": "",
                                    "5": "init"
                                },
                                {
                                    "0": "25",
                                    "1": "2022-03-02 13:51:45.667",
                                    "2": "purple",
                                    "3": "0",
                                    "4": "",
                                    "5": "init"
                                },
                                {
                                    "0": "31",
                                    "1": "2022-03-02 14:01:59.707",
                                    "2": "gold",
                                    "3": "0",
                                    "4": "",
                                    "5": "init"
                                },
                                {
                                    "0": "35",
                                    "1": "2022-03-02 14:14:13.070",
                                    "2": "lightgray",
                                    "3": "0",
                                    "4": "",
                                    "5": "init"
                                },
                                {
                                    "0": "36",
                                    "1": "2022-03-02 14:14:21.107",
                                    "2": "yellow",
                                    "3": "0",
                                    "4": "",
                                    "5": "init"
                                },
                                {
                                    "0": "37",
                                    "1": "2022-03-02 14:14:28.177",
                                    "2": "coral",
                                    "3": "0",
                                    "4": "",
                                    "5": "init"
                                },
                                {
                                    "0": "39",
                                    "1": "2022-03-02 14:19:35.690",
                                    "2": "lightgray",
                                    "3": "0",
                                    "4": "",
                                    "5": "init"
                                },
                                {
                                    "0": "40",
                                    "1": "2022-03-02 14:20:02.657",
                                    "2": "blue",
                                    "3": "0",
                                    "4": "",
                                    "5": "init"
                                },
                                {
                                    "0": "41",
                                    "1": "2022-03-02 14:21:25.890",
                                    "2": "lightgray",
                                    "3": "0",
                                    "4": "",
                                    "5": "init"
                                },
                                {
                                    "0": "42",
                                    "1": "2022-03-02 14:21:33.983",
                                    "2": "lightgray",
                                    "3": "0",
                                    "4": "",
                                    "5": "init"
                                },
                                {
                                    "0": "43",
                                    "1": "2022-03-02 14:22:43.467",
                                    "2": "purple",
                                    "3": "0",
                                    "4": "",
                                    "5": "init"
                                },
                                {
                                    "0": "45",
                                    "1": "2022-03-02 14:25:36.560",
                                    "2": "green",
                                    "3": "0",
                                    "4": "",
                                    "5": "init"
                                },
                                {
                                    "0": "46",
                                    "1": "2022-03-02 14:25:46.043",
                                    "2": "black",
                                    "3": "0",
                                    "4": "",
                                    "5": "init"
                                },
                                {
                                    "0": "47",
                                    "1": "2022-03-02 14:28:33.777",
                                    "2": "green",
                                    "3": "0",
                                    "4": "",
                                    "5": "init"
                                },
                                {
                                    "0": "48",
                                    "1": "2022-03-02 14:28:54.077",
                                    "2": "red",
                                    "3": "0",
                                    "4": "",
                                    "5": "init"
                                },
                                {
                                    "0": "50",
                                    "1": "2022-03-02 14:29:04.917",
                                    "2": "green",
                                    "3": "0",
                                    "4": "",
                                    "5": "init"
                                },
                                {
                                    "0": "55",
                                    "1": "2022-03-02 14:31:42.507",
                                    "2": "purple",
                                    "3": "0",
                                    "4": "",
                                    "5": "init"
                                },
                                {
                                    "0": "56",
                                    "1": "2022-03-02 14:40:38.843",
                                    "2": "gold",
                                    "3": "0",
                                    "4": "",
                                    "5": "init"
                                },
                                {
                                    "0": "57",
                                    "1": "2022-03-02 14:52:13.387",
                                    "2": "black",
                                    "3": "0",
                                    "4": "",
                                    "5": "init"
                                },
                                {
                                    "0": "58",
                                    "1": "2022-03-02 14:53:08.530",
                                    "2": "lightgray",
                                    "3": "0",
                                    "4": "",
                                    "5": "init"
                                },
                                {
                                    "0": "59",
                                    "1": "2022-03-02 14:53:18.103",
                                    "2": "purple",
                                    "3": "0",
                                    "4": "",
                                    "5": "init"
                                },
                                {
                                    "0": "61",
                                    "1": "2022-03-02 14:56:05.140",
                                    "2": "lightgray",
                                    "3": "0",
                                    "4": "",
                                    "5": "init"
                                },
                                {
                                    "0": "64",
                                    "1": "2022-03-02 15:15:21.783",
                                    "2": "red",
                                    "3": "1",
                                    "4": "Hannes",
                                    "5": "obs"
                                },
                                {
                                    "0": "65",
                                    "1": "2022-03-02 15:15:33.343",
                                    "2": "blue",
                                    "3": "1",
                                    "4": "Hannes",
                                    "5": "obs"
                                },
                                {
                                    "0": "66",
                                    "1": "2022-03-02 15:17:03.577",
                                    "2": "yellow",
                                    "3": "1",
                                    "4": "Hannes",
                                    "5": "obs"
                                },
                                {
                                    "0": "67",
                                    "1": "2022-03-02 15:19:54.573",
                                    "2": "black",
                                    "3": "1",
                                    "4": "Hannes",
                                    "5": "obs"
                                },
                                {
                                    "0": "68",
                                    "1": "2022-03-02 15:20:15.307",
                                    "2": "green",
                                    "3": "1",
                                    "4": "Hannes",
                                    "5": "obs"
                                },
                                {
                                    "0": "69",
                                    "1": "2022-03-02 15:20:41.040",
                                    "2": "black",
                                    "3": "0",
                                    "4": "",
                                    "5": "init"
                                },
                                {
                                    "0": "71",
                                    "1": "2022-03-02 15:27:06.770",
                                    "2": "black",
                                    "3": "5",
                                    "4": "Hannes",
                                    "5": "finished"
                                },
                                {
                                    "0": "75",
                                    "1": "2022-03-02 15:34:13.403",
                                    "2": "coral",
                                    "3": "0",
                                    "4": "",
                                    "5": "init"
                                },
                                {
                                    "0": "76",
                                    "1": "2022-03-02 15:34:42.247",
                                    "2": "green",
                                    "3": "0",
                                    "4": "",
                                    "5": "init"
                                },
                                {
                                    "0": "77",
                                    "1": "2022-03-02 15:34:58.420",
                                    "2": "black",
                                    "3": "0",
                                    "4": "",
                                    "5": "init"
                                },
                                {
                                    "0": "78",
                                    "1": "2022-03-03 22:48:16.400",
                                    "2": "red",
                                    "3": "4",
                                    "4": "Hannes",
                                    "5": "finished"
                                },
                                {
                                    "0": "79",
                                    "1": "2022-03-03 22:53:14.223",
                                    "2": "purple",
                                    "3": "0",
                                    "4": "",
                                    "5": "init"
                                },
                                {
                                    "0": "80",
                                    "1": "2022-03-03 22:56:23.017",
                                    "2": "red",
                                    "3": "0",
                                    "4": "",
                                    "5": "init"
                                },
                                {
                                    "0": "81",
                                    "1": "2022-03-03 22:57:20.937",
                                    "2": "black",
                                    "3": "0",
                                    "4": "",
                                    "5": "init"
                                },
                                {
                                    "0": "82",
                                    "1": "2022-03-03 22:58:34.330",
                                    "2": "yellow",
                                    "3": "0",
                                    "4": "",
                                    "5": "init"
                                },
                                {
                                    "0": "84",
                                    "1": "2022-03-03 23:11:09.190",
                                    "2": "yellow",
                                    "3": "0",
                                    "4": "",
                                    "5": "init"
                                },
                                {
                                    "0": "85",
                                    "1": "2022-03-03 23:13:03.877",
                                    "2": "red",
                                    "3": "0",
                                    "4": "",
                                    "5": "init"
                                },
                                {
                                    "0": "86",
                                    "1": "2022-03-03 23:16:17.297",
                                    "2": "black",
                                    "3": "2",
                                    "4": "Hannes",
                                    "5": "obs"
                                },
                                {
                                    "0": "87",
                                    "1": "2022-03-03 23:22:17.713",
                                    "2": "black",
                                    "3": "0",
                                    "4": "",
                                    "5": "init"
                                },
                                {
                                    "0": "88",
                                    "1": "2022-03-03 23:22:31.087",
                                    "2": "coral",
                                    "3": "2",
                                    "4": "Hannes",
                                    "5": "finished"
                                },
                                {
                                    "0": "89",
                                    "1": "2022-03-03 23:23:32.447",
                                    "2": "purple",
                                    "3": "1",
                                    "4": "Hannes",
                                    "5": "finished"
                                }
                            ]
                        },
                        "text/html": [
                            "<table>",
                            "<tr><th>id</th><th>created_at</th><th>color</th><th>rounds</th><th>name</th><th>status</th></tr>",
                            "<tr><td>2</td><td>2022-03-01 19:48:00.193</td><td>black</td><td>0</td><td></td><td>init</td></tr>",
                            "<tr><td>3</td><td>2022-03-01 22:41:11.310</td><td>red</td><td>3</td><td>hannes</td><td>finished</td></tr>",
                            "<tr><td>4</td><td>2022-03-01 22:41:13.717</td><td>red</td><td>0</td><td></td><td>init</td></tr>",
                            "<tr><td>5</td><td>2022-03-01 22:41:15.730</td><td>red</td><td>0</td><td></td><td>init</td></tr>",
                            "<tr><td>6</td><td>2022-03-01 22:53:26.967</td><td>red</td><td>0</td><td></td><td>init</td></tr>",
                            "<tr><td>7</td><td>2022-03-01 22:53:53.300</td><td>red</td><td>0</td><td></td><td>init</td></tr>",
                            "<tr><td>8</td><td>2022-03-01 22:54:05.877</td><td>red</td><td>0</td><td></td><td>init</td></tr>",
                            "<tr><td>9</td><td>2022-03-01 22:54:54.080</td><td>red</td><td>0</td><td></td><td>init</td></tr>",
                            "<tr><td>10</td><td>2022-03-01 22:55:20.640</td><td>red</td><td>0</td><td></td><td>init</td></tr>",
                            "<tr><td>11</td><td>2022-03-01 22:58:23.857</td><td>red</td><td>0</td><td></td><td>init</td></tr>",
                            "<tr><td>12</td><td>2022-03-01 22:59:10.060</td><td>gold</td><td>0</td><td></td><td>init</td></tr>",
                            "<tr><td>13</td><td>2022-03-01 23:00:37.510</td><td>gold</td><td>0</td><td></td><td>init</td></tr>",
                            "<tr><td>14</td><td>2022-03-01 23:07:56.833</td><td>gold</td><td>0</td><td></td><td>init</td></tr>",
                            "<tr><td>15</td><td>2022-03-01 23:08:57.360</td><td>gold</td><td>0</td><td></td><td>init</td></tr>",
                            "<tr><td>16</td><td>2022-03-01 23:09:10.550</td><td>gold</td><td>0</td><td></td><td>init</td></tr>",
                            "<tr><td>18</td><td>2022-03-01 23:14:52.373</td><td>gold</td><td>0</td><td></td><td>init</td></tr>",
                            "<tr><td>19</td><td>2022-03-01 23:24:50.317</td><td>gold</td><td>0</td><td></td><td>init</td></tr>",
                            "<tr><td>20</td><td>2022-03-01 23:24:52.720</td><td>gold</td><td>0</td><td></td><td>init</td></tr>",
                            "<tr><td>22</td><td>2022-03-02 13:49:31.403</td><td>yellow</td><td>0</td><td></td><td>init</td></tr>",
                            "<tr><td>24</td><td>2022-03-02 13:51:43.433</td><td>blue</td><td>0</td><td></td><td>init</td></tr>",
                            "<tr><td>25</td><td>2022-03-02 13:51:45.667</td><td>purple</td><td>0</td><td></td><td>init</td></tr>",
                            "<tr><td>31</td><td>2022-03-02 14:01:59.707</td><td>gold</td><td>0</td><td></td><td>init</td></tr>",
                            "<tr><td>35</td><td>2022-03-02 14:14:13.070</td><td>lightgray</td><td>0</td><td></td><td>init</td></tr>",
                            "<tr><td>36</td><td>2022-03-02 14:14:21.107</td><td>yellow</td><td>0</td><td></td><td>init</td></tr>",
                            "<tr><td>37</td><td>2022-03-02 14:14:28.177</td><td>coral</td><td>0</td><td></td><td>init</td></tr>",
                            "<tr><td>39</td><td>2022-03-02 14:19:35.690</td><td>lightgray</td><td>0</td><td></td><td>init</td></tr>",
                            "<tr><td>40</td><td>2022-03-02 14:20:02.657</td><td>blue</td><td>0</td><td></td><td>init</td></tr>",
                            "<tr><td>41</td><td>2022-03-02 14:21:25.890</td><td>lightgray</td><td>0</td><td></td><td>init</td></tr>",
                            "<tr><td>42</td><td>2022-03-02 14:21:33.983</td><td>lightgray</td><td>0</td><td></td><td>init</td></tr>",
                            "<tr><td>43</td><td>2022-03-02 14:22:43.467</td><td>purple</td><td>0</td><td></td><td>init</td></tr>",
                            "<tr><td>45</td><td>2022-03-02 14:25:36.560</td><td>green</td><td>0</td><td></td><td>init</td></tr>",
                            "<tr><td>46</td><td>2022-03-02 14:25:46.043</td><td>black</td><td>0</td><td></td><td>init</td></tr>",
                            "<tr><td>47</td><td>2022-03-02 14:28:33.777</td><td>green</td><td>0</td><td></td><td>init</td></tr>",
                            "<tr><td>48</td><td>2022-03-02 14:28:54.077</td><td>red</td><td>0</td><td></td><td>init</td></tr>",
                            "<tr><td>50</td><td>2022-03-02 14:29:04.917</td><td>green</td><td>0</td><td></td><td>init</td></tr>",
                            "<tr><td>55</td><td>2022-03-02 14:31:42.507</td><td>purple</td><td>0</td><td></td><td>init</td></tr>",
                            "<tr><td>56</td><td>2022-03-02 14:40:38.843</td><td>gold</td><td>0</td><td></td><td>init</td></tr>",
                            "<tr><td>57</td><td>2022-03-02 14:52:13.387</td><td>black</td><td>0</td><td></td><td>init</td></tr>",
                            "<tr><td>58</td><td>2022-03-02 14:53:08.530</td><td>lightgray</td><td>0</td><td></td><td>init</td></tr>",
                            "<tr><td>59</td><td>2022-03-02 14:53:18.103</td><td>purple</td><td>0</td><td></td><td>init</td></tr>",
                            "<tr><td>61</td><td>2022-03-02 14:56:05.140</td><td>lightgray</td><td>0</td><td></td><td>init</td></tr>",
                            "<tr><td>64</td><td>2022-03-02 15:15:21.783</td><td>red</td><td>1</td><td>Hannes</td><td>obs</td></tr>",
                            "<tr><td>65</td><td>2022-03-02 15:15:33.343</td><td>blue</td><td>1</td><td>Hannes</td><td>obs</td></tr>",
                            "<tr><td>66</td><td>2022-03-02 15:17:03.577</td><td>yellow</td><td>1</td><td>Hannes</td><td>obs</td></tr>",
                            "<tr><td>67</td><td>2022-03-02 15:19:54.573</td><td>black</td><td>1</td><td>Hannes</td><td>obs</td></tr>",
                            "<tr><td>68</td><td>2022-03-02 15:20:15.307</td><td>green</td><td>1</td><td>Hannes</td><td>obs</td></tr>",
                            "<tr><td>69</td><td>2022-03-02 15:20:41.040</td><td>black</td><td>0</td><td></td><td>init</td></tr>",
                            "<tr><td>71</td><td>2022-03-02 15:27:06.770</td><td>black</td><td>5</td><td>Hannes</td><td>finished</td></tr>",
                            "<tr><td>75</td><td>2022-03-02 15:34:13.403</td><td>coral</td><td>0</td><td></td><td>init</td></tr>",
                            "<tr><td>76</td><td>2022-03-02 15:34:42.247</td><td>green</td><td>0</td><td></td><td>init</td></tr>",
                            "<tr><td>77</td><td>2022-03-02 15:34:58.420</td><td>black</td><td>0</td><td></td><td>init</td></tr>",
                            "<tr><td>78</td><td>2022-03-03 22:48:16.400</td><td>red</td><td>4</td><td>Hannes</td><td>finished</td></tr>",
                            "<tr><td>79</td><td>2022-03-03 22:53:14.223</td><td>purple</td><td>0</td><td></td><td>init</td></tr>",
                            "<tr><td>80</td><td>2022-03-03 22:56:23.017</td><td>red</td><td>0</td><td></td><td>init</td></tr>",
                            "<tr><td>81</td><td>2022-03-03 22:57:20.937</td><td>black</td><td>0</td><td></td><td>init</td></tr>",
                            "<tr><td>82</td><td>2022-03-03 22:58:34.330</td><td>yellow</td><td>0</td><td></td><td>init</td></tr>",
                            "<tr><td>84</td><td>2022-03-03 23:11:09.190</td><td>yellow</td><td>0</td><td></td><td>init</td></tr>",
                            "<tr><td>85</td><td>2022-03-03 23:13:03.877</td><td>red</td><td>0</td><td></td><td>init</td></tr>",
                            "<tr><td>86</td><td>2022-03-03 23:16:17.297</td><td>black</td><td>2</td><td>Hannes</td><td>obs</td></tr>",
                            "<tr><td>87</td><td>2022-03-03 23:22:17.713</td><td>black</td><td>0</td><td></td><td>init</td></tr>",
                            "<tr><td>88</td><td>2022-03-03 23:22:31.087</td><td>coral</td><td>2</td><td>Hannes</td><td>finished</td></tr>",
                            "<tr><td>89</td><td>2022-03-03 23:23:32.447</td><td>purple</td><td>1</td><td>Hannes</td><td>finished</td></tr>",
                            "</table>"
                        ]
                    }
                },
                {
                    "output_type": "execute_result",
                    "metadata": {},
                    "execution_count": 6,
                    "data": {
                        "application/vnd.dataresource+json": {
                            "schema": {
                                "fields": [
                                    {
                                        "name": "id"
                                    },
                                    {
                                        "name": "created_at"
                                    },
                                    {
                                        "name": "color"
                                    },
                                    {
                                        "name": "rounds"
                                    },
                                    {
                                        "name": "name"
                                    },
                                    {
                                        "name": "status"
                                    }
                                ]
                            },
                            "data": []
                        },
                        "text/html": [
                            "<table>",
                            "<tr><th>id</th><th>created_at</th><th>color</th><th>rounds</th><th>name</th><th>status</th></tr>",
                            "</table>"
                        ]
                    }
                },
                {
                    "output_type": "execute_result",
                    "metadata": {},
                    "execution_count": 6,
                    "data": {
                        "application/vnd.dataresource+json": {
                            "schema": {
                                "fields": [
                                    {
                                        "name": "id"
                                    },
                                    {
                                        "name": "created_at"
                                    },
                                    {
                                        "name": "color"
                                    },
                                    {
                                        "name": "rounds"
                                    },
                                    {
                                        "name": "name"
                                    },
                                    {
                                        "name": "status"
                                    }
                                ]
                            },
                            "data": [
                                {
                                    "0": "1",
                                    "1": "2022-03-02 00:54:51.940",
                                    "2": "yellow",
                                    "3": "0",
                                    "4": "",
                                    "5": "init"
                                },
                                {
                                    "0": "2",
                                    "1": "2022-03-02 00:57:39.013",
                                    "2": "yellow",
                                    "3": "0",
                                    "4": "",
                                    "5": "init"
                                },
                                {
                                    "0": "3",
                                    "1": "2022-03-02 14:51:22.740",
                                    "2": "yellow",
                                    "3": "1",
                                    "4": "hannesTEST",
                                    "5": "finished"
                                },
                                {
                                    "0": "4",
                                    "1": "2022-03-02 15:03:50.913",
                                    "2": "green",
                                    "3": "0",
                                    "4": "",
                                    "5": "init"
                                },
                                {
                                    "0": "5",
                                    "1": "2022-03-02 15:03:51.637",
                                    "2": "lightgray",
                                    "3": "0",
                                    "4": "",
                                    "5": "init"
                                },
                                {
                                    "0": "6",
                                    "1": "2022-03-02 15:03:52.260",
                                    "2": "lightgray",
                                    "3": "0",
                                    "4": "",
                                    "5": "init"
                                },
                                {
                                    "0": "7",
                                    "1": "2022-03-02 15:03:52.433",
                                    "2": "green",
                                    "3": "0",
                                    "4": "",
                                    "5": "init"
                                },
                                {
                                    "0": "8",
                                    "1": "2022-03-02 15:03:53.123",
                                    "2": "purple",
                                    "3": "0",
                                    "4": "",
                                    "5": "init"
                                },
                                {
                                    "0": "9",
                                    "1": "2022-03-02 15:04:19.600",
                                    "2": "blue",
                                    "3": "0",
                                    "4": "",
                                    "5": "init"
                                },
                                {
                                    "0": "11",
                                    "1": "2022-03-02 15:08:59.863",
                                    "2": "coral",
                                    "3": "0",
                                    "4": "",
                                    "5": "init"
                                },
                                {
                                    "0": "12",
                                    "1": "2022-03-02 15:22:11.320",
                                    "2": "green",
                                    "3": "0",
                                    "4": "",
                                    "5": "init"
                                },
                                {
                                    "0": "13",
                                    "1": "2022-03-02 15:22:12.170",
                                    "2": "coral",
                                    "3": "0",
                                    "4": "",
                                    "5": "init"
                                },
                                {
                                    "0": "14",
                                    "1": "2022-03-02 15:22:45.150",
                                    "2": "green",
                                    "3": "0",
                                    "4": "",
                                    "5": "init"
                                },
                                {
                                    "0": "15",
                                    "1": "2022-03-02 15:22:45.857",
                                    "2": "blue",
                                    "3": "0",
                                    "4": "",
                                    "5": "init"
                                },
                                {
                                    "0": "16",
                                    "1": "2022-03-02 15:22:47.193",
                                    "2": "lightgray",
                                    "3": "0",
                                    "4": "",
                                    "5": "init"
                                },
                                {
                                    "0": "17",
                                    "1": "2022-03-02 15:22:47.647",
                                    "2": "lightgray",
                                    "3": "0",
                                    "4": "",
                                    "5": "init"
                                },
                                {
                                    "0": "18",
                                    "1": "2022-03-02 15:22:48.553",
                                    "2": "coral",
                                    "3": "0",
                                    "4": "",
                                    "5": "init"
                                },
                                {
                                    "0": "19",
                                    "1": "2022-03-02 15:23:55.850",
                                    "2": "black",
                                    "3": "2",
                                    "4": "Hannes",
                                    "5": "finished"
                                },
                                {
                                    "0": "25",
                                    "1": "2022-03-02 15:37:18.197",
                                    "2": "purple",
                                    "3": "0",
                                    "4": "",
                                    "5": "init"
                                },
                                {
                                    "0": "26",
                                    "1": "2022-03-02 15:37:24.247",
                                    "2": "blue",
                                    "3": "0",
                                    "4": "",
                                    "5": "init"
                                },
                                {
                                    "0": "27",
                                    "1": "2022-03-02 15:37:29.247",
                                    "2": "coral",
                                    "3": "0",
                                    "4": "",
                                    "5": "init"
                                },
                                {
                                    "0": "28",
                                    "1": "2022-03-02 15:39:00.663",
                                    "2": "black",
                                    "3": "0",
                                    "4": "",
                                    "5": "init"
                                },
                                {
                                    "0": "29",
                                    "1": "2022-03-02 15:39:07.680",
                                    "2": "blue",
                                    "3": "0",
                                    "4": "",
                                    "5": "init"
                                },
                                {
                                    "0": "30",
                                    "1": "2022-03-02 15:39:17.710",
                                    "2": "lightgray",
                                    "3": "0",
                                    "4": "",
                                    "5": "init"
                                },
                                {
                                    "0": "31",
                                    "1": "2022-03-02 15:39:18.470",
                                    "2": "blue",
                                    "3": "0",
                                    "4": "",
                                    "5": "init"
                                },
                                {
                                    "0": "32",
                                    "1": "2022-03-02 15:39:23.667",
                                    "2": "blue",
                                    "3": "0",
                                    "4": "",
                                    "5": "init"
                                },
                                {
                                    "0": "33",
                                    "1": "2022-03-02 15:40:14.153",
                                    "2": "black",
                                    "3": "0",
                                    "4": "",
                                    "5": "init"
                                },
                                {
                                    "0": "34",
                                    "1": "2022-03-02 15:40:14.553",
                                    "2": "purple",
                                    "3": "0",
                                    "4": "",
                                    "5": "init"
                                },
                                {
                                    "0": "35",
                                    "1": "2022-03-02 15:40:14.847",
                                    "2": "blue",
                                    "3": "0",
                                    "4": "",
                                    "5": "init"
                                },
                                {
                                    "0": "36",
                                    "1": "2022-03-02 15:40:15.080",
                                    "2": "purple",
                                    "3": "0",
                                    "4": "",
                                    "5": "init"
                                },
                                {
                                    "0": "37",
                                    "1": "2022-03-02 15:40:16.037",
                                    "2": "lightgray",
                                    "3": "0",
                                    "4": "",
                                    "5": "init"
                                },
                                {
                                    "0": "39",
                                    "1": "2022-03-02 15:40:33.617",
                                    "2": "black",
                                    "3": "0",
                                    "4": "",
                                    "5": "init"
                                },
                                {
                                    "0": "41",
                                    "1": "2022-03-02 15:41:10.647",
                                    "2": "red",
                                    "3": "0",
                                    "4": "",
                                    "5": "init"
                                },
                                {
                                    "0": "42",
                                    "1": "2022-03-02 15:45:01.463",
                                    "2": "red",
                                    "3": "1",
                                    "4": "Hannes",
                                    "5": "finished"
                                },
                                {
                                    "0": "43",
                                    "1": "2022-03-02 15:50:30.530",
                                    "2": "blue",
                                    "3": "0",
                                    "4": "",
                                    "5": "init"
                                },
                                {
                                    "0": "44",
                                    "1": "2022-03-02 15:50:38.470",
                                    "2": "lightgray",
                                    "3": "6",
                                    "4": "Hannes",
                                    "5": "finished"
                                },
                                {
                                    "0": "45",
                                    "1": "2022-03-02 15:50:48.953",
                                    "2": "coral",
                                    "3": "4",
                                    "4": "Hannes",
                                    "5": "finished"
                                },
                                {
                                    "0": "47",
                                    "1": "2022-03-02 15:51:14.310",
                                    "2": "red",
                                    "3": "5",
                                    "4": "Hannes",
                                    "5": "finished"
                                },
                                {
                                    "0": "48",
                                    "1": "2022-03-02 15:51:26.560",
                                    "2": "yellow",
                                    "3": "0",
                                    "4": "Hannes",
                                    "5": "finished"
                                },
                                {
                                    "0": "49",
                                    "1": "2022-03-03 17:49:54.753",
                                    "2": "coral",
                                    "3": "0",
                                    "4": "",
                                    "5": "init"
                                },
                                {
                                    "0": "50",
                                    "1": "2022-03-03 22:44:27.230",
                                    "2": "purple",
                                    "3": "3",
                                    "4": "Hannes",
                                    "5": "finished"
                                }
                            ]
                        },
                        "text/html": [
                            "<table>",
                            "<tr><th>id</th><th>created_at</th><th>color</th><th>rounds</th><th>name</th><th>status</th></tr>",
                            "<tr><td>1</td><td>2022-03-02 00:54:51.940</td><td>yellow</td><td>0</td><td></td><td>init</td></tr>",
                            "<tr><td>2</td><td>2022-03-02 00:57:39.013</td><td>yellow</td><td>0</td><td></td><td>init</td></tr>",
                            "<tr><td>3</td><td>2022-03-02 14:51:22.740</td><td>yellow</td><td>1</td><td>hannesTEST</td><td>finished</td></tr>",
                            "<tr><td>4</td><td>2022-03-02 15:03:50.913</td><td>green</td><td>0</td><td></td><td>init</td></tr>",
                            "<tr><td>5</td><td>2022-03-02 15:03:51.637</td><td>lightgray</td><td>0</td><td></td><td>init</td></tr>",
                            "<tr><td>6</td><td>2022-03-02 15:03:52.260</td><td>lightgray</td><td>0</td><td></td><td>init</td></tr>",
                            "<tr><td>7</td><td>2022-03-02 15:03:52.433</td><td>green</td><td>0</td><td></td><td>init</td></tr>",
                            "<tr><td>8</td><td>2022-03-02 15:03:53.123</td><td>purple</td><td>0</td><td></td><td>init</td></tr>",
                            "<tr><td>9</td><td>2022-03-02 15:04:19.600</td><td>blue</td><td>0</td><td></td><td>init</td></tr>",
                            "<tr><td>11</td><td>2022-03-02 15:08:59.863</td><td>coral</td><td>0</td><td></td><td>init</td></tr>",
                            "<tr><td>12</td><td>2022-03-02 15:22:11.320</td><td>green</td><td>0</td><td></td><td>init</td></tr>",
                            "<tr><td>13</td><td>2022-03-02 15:22:12.170</td><td>coral</td><td>0</td><td></td><td>init</td></tr>",
                            "<tr><td>14</td><td>2022-03-02 15:22:45.150</td><td>green</td><td>0</td><td></td><td>init</td></tr>",
                            "<tr><td>15</td><td>2022-03-02 15:22:45.857</td><td>blue</td><td>0</td><td></td><td>init</td></tr>",
                            "<tr><td>16</td><td>2022-03-02 15:22:47.193</td><td>lightgray</td><td>0</td><td></td><td>init</td></tr>",
                            "<tr><td>17</td><td>2022-03-02 15:22:47.647</td><td>lightgray</td><td>0</td><td></td><td>init</td></tr>",
                            "<tr><td>18</td><td>2022-03-02 15:22:48.553</td><td>coral</td><td>0</td><td></td><td>init</td></tr>",
                            "<tr><td>19</td><td>2022-03-02 15:23:55.850</td><td>black</td><td>2</td><td>Hannes</td><td>finished</td></tr>",
                            "<tr><td>25</td><td>2022-03-02 15:37:18.197</td><td>purple</td><td>0</td><td></td><td>init</td></tr>",
                            "<tr><td>26</td><td>2022-03-02 15:37:24.247</td><td>blue</td><td>0</td><td></td><td>init</td></tr>",
                            "<tr><td>27</td><td>2022-03-02 15:37:29.247</td><td>coral</td><td>0</td><td></td><td>init</td></tr>",
                            "<tr><td>28</td><td>2022-03-02 15:39:00.663</td><td>black</td><td>0</td><td></td><td>init</td></tr>",
                            "<tr><td>29</td><td>2022-03-02 15:39:07.680</td><td>blue</td><td>0</td><td></td><td>init</td></tr>",
                            "<tr><td>30</td><td>2022-03-02 15:39:17.710</td><td>lightgray</td><td>0</td><td></td><td>init</td></tr>",
                            "<tr><td>31</td><td>2022-03-02 15:39:18.470</td><td>blue</td><td>0</td><td></td><td>init</td></tr>",
                            "<tr><td>32</td><td>2022-03-02 15:39:23.667</td><td>blue</td><td>0</td><td></td><td>init</td></tr>",
                            "<tr><td>33</td><td>2022-03-02 15:40:14.153</td><td>black</td><td>0</td><td></td><td>init</td></tr>",
                            "<tr><td>34</td><td>2022-03-02 15:40:14.553</td><td>purple</td><td>0</td><td></td><td>init</td></tr>",
                            "<tr><td>35</td><td>2022-03-02 15:40:14.847</td><td>blue</td><td>0</td><td></td><td>init</td></tr>",
                            "<tr><td>36</td><td>2022-03-02 15:40:15.080</td><td>purple</td><td>0</td><td></td><td>init</td></tr>",
                            "<tr><td>37</td><td>2022-03-02 15:40:16.037</td><td>lightgray</td><td>0</td><td></td><td>init</td></tr>",
                            "<tr><td>39</td><td>2022-03-02 15:40:33.617</td><td>black</td><td>0</td><td></td><td>init</td></tr>",
                            "<tr><td>41</td><td>2022-03-02 15:41:10.647</td><td>red</td><td>0</td><td></td><td>init</td></tr>",
                            "<tr><td>42</td><td>2022-03-02 15:45:01.463</td><td>red</td><td>1</td><td>Hannes</td><td>finished</td></tr>",
                            "<tr><td>43</td><td>2022-03-02 15:50:30.530</td><td>blue</td><td>0</td><td></td><td>init</td></tr>",
                            "<tr><td>44</td><td>2022-03-02 15:50:38.470</td><td>lightgray</td><td>6</td><td>Hannes</td><td>finished</td></tr>",
                            "<tr><td>45</td><td>2022-03-02 15:50:48.953</td><td>coral</td><td>4</td><td>Hannes</td><td>finished</td></tr>",
                            "<tr><td>47</td><td>2022-03-02 15:51:14.310</td><td>red</td><td>5</td><td>Hannes</td><td>finished</td></tr>",
                            "<tr><td>48</td><td>2022-03-02 15:51:26.560</td><td>yellow</td><td>0</td><td>Hannes</td><td>finished</td></tr>",
                            "<tr><td>49</td><td>2022-03-03 17:49:54.753</td><td>coral</td><td>0</td><td></td><td>init</td></tr>",
                            "<tr><td>50</td><td>2022-03-03 22:44:27.230</td><td>purple</td><td>3</td><td>Hannes</td><td>finished</td></tr>",
                            "</table>"
                        ]
                    }
                }
            ],
            "execution_count": 6
        },
        {
            "cell_type": "code",
            "source": [
                "SELECT * FROM dev_games WHERE ID=100;"
            ],
            "metadata": {
                "azdata_cell_guid": "11fae634-5ed5-4398-9788-ad67d880dc3c"
            },
            "outputs": [
                {
                    "output_type": "display_data",
                    "data": {
                        "text/html": "(0 rows affected)"
                    },
                    "metadata": {}
                },
                {
                    "output_type": "display_data",
                    "data": {
                        "text/html": "Total execution time: 00:00:00.036"
                    },
                    "metadata": {}
                },
                {
                    "output_type": "execute_result",
                    "metadata": {},
                    "execution_count": 3,
                    "data": {
                        "application/vnd.dataresource+json": {
                            "schema": {
                                "fields": [
                                    {
                                        "name": "id"
                                    },
                                    {
                                        "name": "created_at"
                                    },
                                    {
                                        "name": "color"
                                    },
                                    {
                                        "name": "rounds"
                                    },
                                    {
                                        "name": "name"
                                    },
                                    {
                                        "name": "status"
                                    }
                                ]
                            },
                            "data": []
                        },
                        "text/html": [
                            "<table>",
                            "<tr><th>id</th><th>created_at</th><th>color</th><th>rounds</th><th>name</th><th>status</th></tr>",
                            "</table>"
                        ]
                    }
                }
            ],
            "execution_count": 3
        }
    ]
}